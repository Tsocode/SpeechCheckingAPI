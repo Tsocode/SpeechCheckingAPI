{
  "nbformat": 4,
  "nbformat_minor": 0,
  "metadata": {
    "colab": {
      "provenance": [],
      "authorship_tag": "ABX9TyMzpGpFDMmxwFSi7ME7gEvB",
      "include_colab_link": true
    },
    "kernelspec": {
      "name": "python3",
      "display_name": "Python 3"
    },
    "language_info": {
      "name": "python"
    }
  },
  "cells": [
    {
      "cell_type": "markdown",
      "metadata": {
        "id": "view-in-github",
        "colab_type": "text"
      },
      "source": [
        "<a href=\"https://colab.research.google.com/github/Tsocode/SpeechCheckingAPI/blob/main/SpellCheckingAPI.ipynb\" target=\"_parent\"><img src=\"https://colab.research.google.com/assets/colab-badge.svg\" alt=\"Open In Colab\"/></a>"
      ]
    },
    {
      "cell_type": "code",
      "execution_count": null,
      "metadata": {
        "colab": {
          "base_uri": "https://localhost:8080/"
        },
        "id": "dsAHJ6RtKrtk",
        "outputId": "68517d18-d892-48c8-aea3-712c44d63fba"
      },
      "outputs": [
        {
          "output_type": "stream",
          "name": "stdout",
          "text": [
            "Requirement already satisfied: pyspellchecker in /usr/local/lib/python3.10/dist-packages (0.7.2)\n"
          ]
        }
      ],
      "source": [
        "!pip install pyspellchecker"
      ]
    },
    {
      "cell_type": "code",
      "source": [
        "from spellchecker import SpellChecker"
      ],
      "metadata": {
        "id": "5L637W9UNsCV"
      },
      "execution_count": null,
      "outputs": []
    },
    {
      "cell_type": "code",
      "source": [
        "def spellcheckText(text):\n",
        "  spellChecker = SpellChecker()\n",
        "  words = text.split()\n",
        "  misspelled = spellChecker.unknown(words)\n",
        "  corrections = {}\n",
        "\n",
        "  for word in misspelled:\n",
        "    correction = spellChecker.correction(word)\n",
        "    candidates = spellChecker.candidates(word)\n",
        "    corrections[word] = {\n",
        "        'correction': correction,\n",
        "        'suggestions': list(candidates)\n",
        "    }\n",
        "\n",
        "  return corrections"
      ],
      "metadata": {
        "id": "yAFWKL-lLshi"
      },
      "execution_count": null,
      "outputs": []
    },
    {
      "cell_type": "code",
      "source": [
        "result = spellcheckText(\"Is lov to eat fish but not today but tomorrow\")\n",
        "# result = spellcheckText(\"Ths is a smple test to chck speling erors.\")\n",
        "for word, details in result.items():\n",
        "    print(f\"Word: '{word}'\")\n",
        "    print(f\"Correction: '{details['correction']}'\")\n",
        "    print(f\"Suggestions: {details['suggestions']}\\n\")"
      ],
      "metadata": {
        "id": "Fa3mP03XNNn3"
      },
      "execution_count": null,
      "outputs": []
    }
  ]
}